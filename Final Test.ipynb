{
 "cells": [
  {
   "cell_type": "markdown",
   "id": "eae341fe",
   "metadata": {},
   "source": [
    "### 202103670 철학과 함수진\n",
    "\n",
    "# ssl.py의 동작을 확인하는 파일입니다."
   ]
  },
  {
   "cell_type": "markdown",
   "id": "c1285d57",
   "metadata": {},
   "source": [
    "#### 파일을 불러와 newlist를 지정합니다."
   ]
  },
  {
   "cell_type": "code",
   "execution_count": 1,
   "id": "6feb3dec",
   "metadata": {},
   "outputs": [],
   "source": [
    "from ssl import *\n",
    "newlist=LinkedList()"
   ]
  },
  {
   "cell_type": "markdown",
   "id": "20814bb8",
   "metadata": {},
   "source": [
    "#### append 함수를 실행한다."
   ]
  },
  {
   "cell_type": "code",
   "execution_count": 2,
   "id": "f1114d0a",
   "metadata": {},
   "outputs": [],
   "source": [
    "newlist.append(100)\n",
    "newlist.append(200)\n",
    "newlist.append(300)"
   ]
  },
  {
   "cell_type": "markdown",
   "id": "f619b4dd",
   "metadata": {},
   "source": [
    "#### newlist의 원소들을 traverse_all() 하여 확인한다. "
   ]
  },
  {
   "cell_type": "code",
   "execution_count": 3,
   "id": "28470ae1",
   "metadata": {},
   "outputs": [
    {
     "name": "stdout",
     "output_type": "stream",
     "text": [
      "head -> (100) -> (200) -> (300) -> null\n"
     ]
    }
   ],
   "source": [
    "newlist.traverse_all()"
   ]
  },
  {
   "cell_type": "markdown",
   "id": "f125fa64",
   "metadata": {},
   "source": [
    "#### newlist의 첫번째 원소를 확인한다."
   ]
  },
  {
   "cell_type": "code",
   "execution_count": 4,
   "id": "37a3009f",
   "metadata": {},
   "outputs": [
    {
     "data": {
      "text/plain": [
       "100"
      ]
     },
     "execution_count": 4,
     "metadata": {},
     "output_type": "execute_result"
    }
   ],
   "source": [
    "newlist.first()"
   ]
  },
  {
   "cell_type": "markdown",
   "id": "6160b05e",
   "metadata": {},
   "source": [
    "#### 다음 메소드들을 확인한다."
   ]
  },
  {
   "cell_type": "code",
   "execution_count": 5,
   "id": "6662acd4",
   "metadata": {},
   "outputs": [
    {
     "data": {
      "text/plain": [
       "200"
      ]
     },
     "execution_count": 5,
     "metadata": {},
     "output_type": "execute_result"
    }
   ],
   "source": [
    "newlist.next()"
   ]
  },
  {
   "cell_type": "code",
   "execution_count": 6,
   "id": "7b97e588",
   "metadata": {},
   "outputs": [
    {
     "data": {
      "text/plain": [
       "300"
      ]
     },
     "execution_count": 6,
     "metadata": {},
     "output_type": "execute_result"
    }
   ],
   "source": [
    "newlist.next()"
   ]
  },
  {
   "cell_type": "markdown",
   "id": "24e0bf8f",
   "metadata": {},
   "source": [
    "#### newlist의 size를 확인한다. "
   ]
  },
  {
   "cell_type": "code",
   "execution_count": 9,
   "id": "9b1cf10e",
   "metadata": {
    "scrolled": true
   },
   "outputs": [
    {
     "data": {
      "text/plain": [
       "3"
      ]
     },
     "execution_count": 9,
     "metadata": {},
     "output_type": "execute_result"
    }
   ],
   "source": [
    "newlist.size()"
   ]
  },
  {
   "cell_type": "markdown",
   "id": "f5b63a75",
   "metadata": {},
   "source": [
    "#### newlist의 현재 노드를 삭제한다."
   ]
  },
  {
   "cell_type": "code",
   "execution_count": 19,
   "id": "c198ece0",
   "metadata": {},
   "outputs": [
    {
     "data": {
      "text/plain": [
       "200"
      ]
     },
     "execution_count": 19,
     "metadata": {},
     "output_type": "execute_result"
    }
   ],
   "source": [
    "newlist.delete()"
   ]
  },
  {
   "cell_type": "markdown",
   "id": "854188dd",
   "metadata": {},
   "source": [
    "#### 삭제 후의 newlist를 확인해본다"
   ]
  },
  {
   "cell_type": "code",
   "execution_count": 20,
   "id": "8788823e",
   "metadata": {},
   "outputs": [
    {
     "name": "stdout",
     "output_type": "stream",
     "text": [
      "head -> (100) -> (200) -> null\n"
     ]
    }
   ],
   "source": [
    "newlist.traverse_all()"
   ]
  },
  {
   "cell_type": "markdown",
   "id": "9a549cf1",
   "metadata": {},
   "source": [
    "#### 현재노드가 200이므로 다음 노드는 존재하지 않아, 아무것도 반환되지 않는다. "
   ]
  },
  {
   "cell_type": "code",
   "execution_count": 21,
   "id": "a9a957f9",
   "metadata": {},
   "outputs": [],
   "source": [
    "newlist.next()"
   ]
  },
  {
   "cell_type": "markdown",
   "id": "602e1f86",
   "metadata": {},
   "source": [
    "#### 리스트의 주어진 위치에 new_data를 삽입하는 insert_at() 함수를 테스트하고 확인해본다."
   ]
  },
  {
   "cell_type": "code",
   "execution_count": 22,
   "id": "bd27d0cf",
   "metadata": {
    "scrolled": true
   },
   "outputs": [
    {
     "name": "stdout",
     "output_type": "stream",
     "text": [
      "head -> (100) -> (200) -> (3) -> null\n"
     ]
    }
   ],
   "source": [
    "newlist.insert_at(2,3)\n",
    "newlist.traverse_all()"
   ]
  },
  {
   "cell_type": "markdown",
   "id": "d25602a7",
   "metadata": {},
   "source": [
    "#### 리스트의 크기보다 더 큰 position을 입력하면 맨 뒤에 추가된다."
   ]
  },
  {
   "cell_type": "code",
   "execution_count": 23,
   "id": "16b81726",
   "metadata": {},
   "outputs": [
    {
     "name": "stdout",
     "output_type": "stream",
     "text": [
      "head -> (100) -> (200) -> (3) -> (4) -> null\n"
     ]
    }
   ],
   "source": [
    "newlist.insert_at(4,4)\n",
    "newlist.traverse_all()"
   ]
  },
  {
   "cell_type": "markdown",
   "id": "0b5efdff",
   "metadata": {},
   "source": [
    "#### remove(key) 함수로 key값을 삭제하고 확인한다."
   ]
  },
  {
   "cell_type": "code",
   "execution_count": 24,
   "id": "a330a7a2",
   "metadata": {},
   "outputs": [
    {
     "name": "stdout",
     "output_type": "stream",
     "text": [
      "3번째 원소(3)를 삭제합니다.\n"
     ]
    }
   ],
   "source": [
    "newlist.remove(3)"
   ]
  },
  {
   "cell_type": "code",
   "execution_count": 25,
   "id": "d5e585fd",
   "metadata": {},
   "outputs": [
    {
     "name": "stdout",
     "output_type": "stream",
     "text": [
      "head -> (100) -> (200) -> (4) -> null\n"
     ]
    }
   ],
   "source": [
    "newlist.traverse_all()"
   ]
  },
  {
   "cell_type": "code",
   "execution_count": 26,
   "id": "39825132",
   "metadata": {},
   "outputs": [
    {
     "name": "stdout",
     "output_type": "stream",
     "text": [
      "1번째 원소(100)를 삭제합니다.\n"
     ]
    }
   ],
   "source": [
    "newlist.remove(100)"
   ]
  },
  {
   "cell_type": "code",
   "execution_count": 27,
   "id": "03901c53",
   "metadata": {},
   "outputs": [
    {
     "name": "stdout",
     "output_type": "stream",
     "text": [
      "head -> (200) -> (4) -> null\n"
     ]
    }
   ],
   "source": [
    "newlist.traverse_all()"
   ]
  }
 ],
 "metadata": {
  "kernelspec": {
   "display_name": "Python 3 (ipykernel)",
   "language": "python",
   "name": "python3"
  },
  "language_info": {
   "codemirror_mode": {
    "name": "ipython",
    "version": 3
   },
   "file_extension": ".py",
   "mimetype": "text/x-python",
   "name": "python",
   "nbconvert_exporter": "python",
   "pygments_lexer": "ipython3",
   "version": "3.10.9"
  }
 },
 "nbformat": 4,
 "nbformat_minor": 5
}
