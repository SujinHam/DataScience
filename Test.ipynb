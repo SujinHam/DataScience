{
 "cells": [
  {
   "cell_type": "markdown",
   "id": "afed95fa",
   "metadata": {},
   "source": [
    "# 기존 ssl.py에 추가한 함수를 test 합니다.  \n",
    "\n",
    "## 1. traverse_all() 함수"
   ]
  },
  {
   "cell_type": "code",
   "execution_count": 1,
   "id": "d128247d",
   "metadata": {},
   "outputs": [],
   "source": [
    "from ssl import *\n",
    "newlist = LinkedList()"
   ]
  },
  {
   "cell_type": "code",
   "execution_count": 2,
   "id": "d5454360",
   "metadata": {},
   "outputs": [
    {
     "name": "stdout",
     "output_type": "stream",
     "text": [
      "head -> null\n"
     ]
    }
   ],
   "source": [
    "newlist.traverse_all()"
   ]
  },
  {
   "cell_type": "markdown",
   "id": "fef7dd2e",
   "metadata": {},
   "source": [
    "###### 위와 같이 newlist는 비어있음을 알 수 있다.\n",
    "\n",
    "## 2. insert_at(position, new_data) 함수"
   ]
  },
  {
   "cell_type": "code",
   "execution_count": 3,
   "id": "eca1b4f9",
   "metadata": {},
   "outputs": [],
   "source": [
    "newlist.insert_at(1, 100)\n",
    "newlist.insert_at(2, 72)\n",
    "newlist.insert_at(3, 325)"
   ]
  },
  {
   "cell_type": "code",
   "execution_count": 4,
   "id": "040bdb27",
   "metadata": {},
   "outputs": [
    {
     "name": "stdout",
     "output_type": "stream",
     "text": [
      "head -> (100) -> (72) -> (325) -> null\n"
     ]
    }
   ],
   "source": [
    "newlist.traverse_all()"
   ]
  },
  {
   "cell_type": "markdown",
   "id": "2da23613",
   "metadata": {},
   "source": [
    "###### 위와 같이 원소가 추가되었음을 알 수 있다.\n",
    "\n",
    "## 3. remove(key) 함수"
   ]
  },
  {
   "cell_type": "code",
   "execution_count": 5,
   "id": "86f514db",
   "metadata": {},
   "outputs": [
    {
     "name": "stdout",
     "output_type": "stream",
     "text": [
      "원소100를 삭제합니다.\n"
     ]
    }
   ],
   "source": [
    "newlist.remove(100)"
   ]
  },
  {
   "cell_type": "code",
   "execution_count": 6,
   "id": "48806321",
   "metadata": {},
   "outputs": [
    {
     "name": "stdout",
     "output_type": "stream",
     "text": [
      "head -> (72) -> (325) -> null\n",
      "원소72를 삭제합니다.\n"
     ]
    }
   ],
   "source": [
    "newlist.traverse_all()\n",
    "newlist.remove(72)"
   ]
  },
  {
   "cell_type": "code",
   "execution_count": 7,
   "id": "33d957cf",
   "metadata": {},
   "outputs": [
    {
     "name": "stdout",
     "output_type": "stream",
     "text": [
      "head -> (325) -> null\n",
      "해당하는 원소가 없습니다.\n"
     ]
    }
   ],
   "source": [
    "newlist.traverse_all()\n",
    "newlist.remove(123)"
   ]
  },
  {
   "cell_type": "code",
   "execution_count": 8,
   "id": "442603ad",
   "metadata": {},
   "outputs": [
    {
     "name": "stdout",
     "output_type": "stream",
     "text": [
      "head -> (325) -> null\n",
      "원소325를 삭제합니다.\n",
      "head -> null\n"
     ]
    }
   ],
   "source": [
    "newlist.traverse_all()\n",
    "newlist.remove(325)\n",
    "newlist.traverse_all()"
   ]
  }
 ],
 "metadata": {
  "kernelspec": {
   "display_name": "Python 3 (ipykernel)",
   "language": "python",
   "name": "python3"
  },
  "language_info": {
   "codemirror_mode": {
    "name": "ipython",
    "version": 3
   },
   "file_extension": ".py",
   "mimetype": "text/x-python",
   "name": "python",
   "nbconvert_exporter": "python",
   "pygments_lexer": "ipython3",
   "version": "3.10.9"
  }
 },
 "nbformat": 4,
 "nbformat_minor": 5
}
